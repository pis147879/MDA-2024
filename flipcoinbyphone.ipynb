{
 "cells": [
  {
   "cell_type": "code",
   "execution_count": null,
   "metadata": {},
   "outputs": [],
   "source": [
    "from random import randint\n",
    "import hashlib\n",
    "\n",
    "\n",
    "security = 16\n",
    "print(\"digest space size :\",2**security)\n",
    "choice = 0\n",
    "hide = randint(0,2**security)\n",
    "\n",
    "hgen = hashlib.sha256()\n",
    "\n",
    "hgen.update((hide+choice).to_bytes(4,'little'))\n",
    "committment = hgen.hexdigest()\n",
    "print(\"Alice communicates the committment to Bob:\\n the committment is\",committment)\n",
    "\n",
    "s=0\n",
    "hgen.update((s+1).to_bytes(4,'little'))\n",
    "while ((hgen.hexdigest()!=committment)&(s<2**security-1)):\n",
    "    s = s + 1\n",
    "    print(s)\n",
    "    hgen.update((s+1).to_bytes(4,'little'))\n",
    "\n",
    "print(\"ritrovato il segreto \",s)\n",
    "\n",
    "print(\"we have the right committment  :\",s,\"\\nin fact,\\n\",hgen.hexdigest(),\"\\nis equal to\\n\",committment)"
   ]
  },
  {
   "cell_type": "code",
   "execution_count": null,
   "metadata": {},
   "outputs": [],
   "source": []
  },
  {
   "cell_type": "code",
   "execution_count": null,
   "metadata": {},
   "outputs": [],
   "source": []
  }
 ],
 "metadata": {
  "kernelspec": {
   "display_name": "Python 3",
   "language": "python",
   "name": "python3"
  },
  "language_info": {
   "codemirror_mode": {
    "name": "ipython",
    "version": 3
   },
   "file_extension": ".py",
   "mimetype": "text/x-python",
   "name": "python",
   "nbconvert_exporter": "python",
   "pygments_lexer": "ipython3",
   "version": "3.10.13"
  }
 },
 "nbformat": 4,
 "nbformat_minor": 2
}
